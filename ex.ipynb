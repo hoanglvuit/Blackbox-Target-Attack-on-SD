{
 "cells": [
  {
   "cell_type": "code",
   "execution_count": 3,
   "id": "6f4af2f6",
   "metadata": {},
   "outputs": [
    {
     "name": "stdout",
     "output_type": "stream",
     "text": [
      "{'ori_sentence': 'an apple', 'tar_sentence': 'an apple and a lake', 'oo': 'apple', 'to': 'lake'}\n"
     ]
    }
   ],
   "source": [
    "import json\n",
    "\n",
    "# Mở file JSON và sử dụng json.load() để đọc dữ liệu từ file\n",
    "with open('dataset/sentence1.json', 'r') as file:\n",
    "    data = json.load(file)\n",
    "\n",
    "# Hiển thị dữ liệu đã tải\n",
    "print(data)"
   ]
  },
  {
   "cell_type": "code",
   "execution_count": null,
   "id": "15c565a2",
   "metadata": {},
   "outputs": [],
   "source": []
  }
 ],
 "metadata": {
  "kernelspec": {
   "display_name": "Python 3",
   "language": "python",
   "name": "python3"
  },
  "language_info": {
   "codemirror_mode": {
    "name": "ipython",
    "version": 3
   },
   "file_extension": ".py",
   "mimetype": "text/x-python",
   "name": "python",
   "nbconvert_exporter": "python",
   "pygments_lexer": "ipython3",
   "version": "3.11.4"
  }
 },
 "nbformat": 4,
 "nbformat_minor": 5
}
