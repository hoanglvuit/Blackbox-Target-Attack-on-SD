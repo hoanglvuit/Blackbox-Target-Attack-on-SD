{
 "cells": [
  {
   "cell_type": "code",
   "execution_count": null,
   "id": "6f4af2f6",
   "metadata": {},
   "outputs": [
    {
     "name": "stdout",
     "output_type": "stream",
     "text": [
      "{'ori_sentence': 'an apple', 'tar_sentence': 'an apple and a lake', 'oo': 'apple', 'to': 'lake'}\n"
     ]
    }
   ],
   "source": [
    "!pip install --upgrade transformers scipy ftfy accelerate diffusers"
   ]
  },
  {
   "cell_type": "code",
   "execution_count": null,
   "id": "15c565a2",
   "metadata": {},
   "outputs": [],
   "source": [
    "import os \n",
    "import json\n",
    "import torch"
   ]
  },
  {
   "cell_type": "code",
   "execution_count": null,
   "id": "83fd7476",
   "metadata": {},
   "outputs": [],
   "source": [
    "os.mkdir(\"adv_prompts/sentence\")\n",
    "\n",
    "# Load sentence \n",
    "with open('dataset/sentence1.json', 'r') as file:\n",
    "    data = json.load(file)\n",
    "# Copy \n",
    "with open('adv_prompts/sentence/sentence1.json', 'w') as file:\n",
    "    json.dump(data, file, indent=4, ensure_ascii=False)\n",
    "\n",
    "oo = data['oo']\n",
    "to = data['to']\n",
    "ori_sentence = data['ori_sentence'] \n",
    "tar_sentence = data['tar_sentence'] \n",
    "print('Original object:', oo)\n",
    "print('Target object:', to)\n",
    "print('Original sentence:', ori_sentence)\n",
    "print('Target sentence:', tar_sentence)"
   ]
  },
  {
   "cell_type": "code",
   "execution_count": null,
   "id": "370ddad4",
   "metadata": {},
   "outputs": [],
   "source": [
    "import torch\n",
    "from transformers import CLIPTextModel, CLIPTokenizer\n",
    "\n",
    "len_prompt = 5\n",
    "\n",
    "tokenizer = CLIPTokenizer.from_pretrained('openai/clip-vit-large-patch14')\n",
    "text_encoder = CLIPTextModel.from_pretrained('openai/clip-vit-large-patch14')\n",
    "text_encoder = text_encoder.to('cuda')"
   ]
  }
 ],
 "metadata": {
  "kernelspec": {
   "display_name": "Python 3",
   "language": "python",
   "name": "python3"
  },
  "language_info": {
   "codemirror_mode": {
    "name": "ipython",
    "version": 3
   },
   "file_extension": ".py",
   "mimetype": "text/x-python",
   "name": "python",
   "nbconvert_exporter": "python",
   "pygments_lexer": "ipython3",
   "version": "3.11.4"
  }
 },
 "nbformat": 4,
 "nbformat_minor": 5
}
